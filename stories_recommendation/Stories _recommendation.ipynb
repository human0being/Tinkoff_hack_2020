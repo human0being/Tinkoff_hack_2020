{
 "cells": [
  {
   "cell_type": "code",
   "execution_count": 1,
   "metadata": {},
   "outputs": [],
   "source": [
    "import pandas as pd\n",
    "import numpy as np"
   ]
  },
  {
   "cell_type": "code",
   "execution_count": 2,
   "metadata": {},
   "outputs": [],
   "source": [
    "data_text=pd.read_csv('hackathon_data/avk_hackathon_data_story_texts.csv')"
   ]
  },
  {
   "cell_type": "code",
   "execution_count": 3,
   "metadata": {},
   "outputs": [],
   "source": [
    "clients=pd.read_csv('hackathon_data/avk_hackathon_data_story_logs.csv')"
   ]
  },
  {
   "cell_type": "code",
   "execution_count": 4,
   "metadata": {
    "scrolled": true
   },
   "outputs": [
    {
     "data": {
      "text/html": [
       "<div>\n",
       "<style scoped>\n",
       "    .dataframe tbody tr th:only-of-type {\n",
       "        vertical-align: middle;\n",
       "    }\n",
       "\n",
       "    .dataframe tbody tr th {\n",
       "        vertical-align: top;\n",
       "    }\n",
       "\n",
       "    .dataframe thead th {\n",
       "        text-align: right;\n",
       "    }\n",
       "</style>\n",
       "<table border=\"1\" class=\"dataframe\">\n",
       "  <thead>\n",
       "    <tr style=\"text-align: right;\">\n",
       "      <th></th>\n",
       "      <th>story_id</th>\n",
       "      <th>name</th>\n",
       "      <th>story_text</th>\n",
       "    </tr>\n",
       "  </thead>\n",
       "  <tbody>\n",
       "    <tr>\n",
       "      <th>0</th>\n",
       "      <td>794</td>\n",
       "      <td>Профессия: свадебный организатор</td>\n",
       "      <td>[\"\",\"Как стать свадебным организатором\",\"Это Л...</td>\n",
       "    </tr>\n",
       "    <tr>\n",
       "      <th>1</th>\n",
       "      <td>821</td>\n",
       "      <td>Бизнес: магазин электроники</td>\n",
       "      <td>[\"\",\"Как открыть интернет-магазин электроники\"...</td>\n",
       "    </tr>\n",
       "    <tr>\n",
       "      <th>2</th>\n",
       "      <td>824</td>\n",
       "      <td>Как у них: Сингапур</td>\n",
       "      <td>[\"\",\"Жизнь в Сингапуре\",\"Это Славина. Вместе с...</td>\n",
       "    </tr>\n",
       "    <tr>\n",
       "      <th>3</th>\n",
       "      <td>839</td>\n",
       "      <td>Студии йоги</td>\n",
       "      <td>[\"\",\"Студии йоги\",\"7 московских студий, где мо...</td>\n",
       "    </tr>\n",
       "    <tr>\n",
       "      <th>4</th>\n",
       "      <td>848</td>\n",
       "      <td>Как получать больше кэшбэка</td>\n",
       "      <td>[\"\",\"Как получать больше кэшбэка\",\"Подключите ...</td>\n",
       "    </tr>\n",
       "    <tr>\n",
       "      <th>...</th>\n",
       "      <td>...</td>\n",
       "      <td>...</td>\n",
       "      <td>...</td>\n",
       "    </tr>\n",
       "    <tr>\n",
       "      <th>1626</th>\n",
       "      <td>732</td>\n",
       "      <td>Лайфхак по инвестициям</td>\n",
       "      <td>[\"\",\"Лайфхак в Тинькофф Инвестициях\",\"Как не п...</td>\n",
       "    </tr>\n",
       "    <tr>\n",
       "      <th>1627</th>\n",
       "      <td>733</td>\n",
       "      <td>Лайфхак инвестиций</td>\n",
       "      <td>[\"\",\"Лайфхак в Тинькофф Инвестициях\",\"Как не п...</td>\n",
       "    </tr>\n",
       "    <tr>\n",
       "      <th>1628</th>\n",
       "      <td>741</td>\n",
       "      <td>Ошибка в реквизитах</td>\n",
       "      <td>[\"\",\"Как вернуть деньги при ошибке в реквизита...</td>\n",
       "    </tr>\n",
       "    <tr>\n",
       "      <th>1629</th>\n",
       "      <td>746</td>\n",
       "      <td>Как у них: Барселона</td>\n",
       "      <td>[\"\",\"Жизнь в Барселоне\",\"Это Ольга. Шесть лет ...</td>\n",
       "    </tr>\n",
       "    <tr>\n",
       "      <th>1630</th>\n",
       "      <td>774</td>\n",
       "      <td>Что купить у The Ordinary</td>\n",
       "      <td>[\"\",\"7 лучших продуктов The Ordinary\",\"Канадск...</td>\n",
       "    </tr>\n",
       "  </tbody>\n",
       "</table>\n",
       "<p>1631 rows × 3 columns</p>\n",
       "</div>"
      ],
      "text/plain": [
       "      story_id                              name  \\\n",
       "0          794  Профессия: свадебный организатор   \n",
       "1          821       Бизнес: магазин электроники   \n",
       "2          824               Как у них: Сингапур   \n",
       "3          839                       Студии йоги   \n",
       "4          848       Как получать больше кэшбэка   \n",
       "...        ...                               ...   \n",
       "1626       732            Лайфхак по инвестициям   \n",
       "1627       733                Лайфхак инвестиций   \n",
       "1628       741               Ошибка в реквизитах   \n",
       "1629       746              Как у них: Барселона   \n",
       "1630       774         Что купить у The Ordinary   \n",
       "\n",
       "                                             story_text  \n",
       "0     [\"\",\"Как стать свадебным организатором\",\"Это Л...  \n",
       "1     [\"\",\"Как открыть интернет-магазин электроники\"...  \n",
       "2     [\"\",\"Жизнь в Сингапуре\",\"Это Славина. Вместе с...  \n",
       "3     [\"\",\"Студии йоги\",\"7 московских студий, где мо...  \n",
       "4     [\"\",\"Как получать больше кэшбэка\",\"Подключите ...  \n",
       "...                                                 ...  \n",
       "1626  [\"\",\"Лайфхак в Тинькофф Инвестициях\",\"Как не п...  \n",
       "1627  [\"\",\"Лайфхак в Тинькофф Инвестициях\",\"Как не п...  \n",
       "1628  [\"\",\"Как вернуть деньги при ошибке в реквизита...  \n",
       "1629  [\"\",\"Жизнь в Барселоне\",\"Это Ольга. Шесть лет ...  \n",
       "1630  [\"\",\"7 лучших продуктов The Ordinary\",\"Канадск...  \n",
       "\n",
       "[1631 rows x 3 columns]"
      ]
     },
     "execution_count": 4,
     "metadata": {},
     "output_type": "execute_result"
    }
   ],
   "source": [
    "data_text"
   ]
  },
  {
   "cell_type": "code",
   "execution_count": 5,
   "metadata": {},
   "outputs": [
    {
     "data": {
      "text/plain": [
       "(13820, 5)"
      ]
     },
     "execution_count": 5,
     "metadata": {},
     "output_type": "execute_result"
    }
   ],
   "source": [
    "clients.shape"
   ]
  },
  {
   "cell_type": "code",
   "execution_count": 11,
   "metadata": {
    "scrolled": true
   },
   "outputs": [
    {
     "data": {
      "text/html": [
       "<div>\n",
       "<style scoped>\n",
       "    .dataframe tbody tr th:only-of-type {\n",
       "        vertical-align: middle;\n",
       "    }\n",
       "\n",
       "    .dataframe tbody tr th {\n",
       "        vertical-align: top;\n",
       "    }\n",
       "\n",
       "    .dataframe thead th {\n",
       "        text-align: right;\n",
       "    }\n",
       "</style>\n",
       "<table border=\"1\" class=\"dataframe\">\n",
       "  <thead>\n",
       "    <tr style=\"text-align: right;\">\n",
       "      <th></th>\n",
       "      <th>party_rk</th>\n",
       "      <th>date_time</th>\n",
       "      <th>story_id</th>\n",
       "      <th>category</th>\n",
       "      <th>event</th>\n",
       "    </tr>\n",
       "  </thead>\n",
       "  <tbody>\n",
       "    <tr>\n",
       "      <th>0</th>\n",
       "      <td>64266</td>\n",
       "      <td>2019-12-01 13:05:31</td>\n",
       "      <td>3840</td>\n",
       "      <td>39</td>\n",
       "      <td>like</td>\n",
       "    </tr>\n",
       "    <tr>\n",
       "      <th>1</th>\n",
       "      <td>55721</td>\n",
       "      <td>2019-12-01 13:18:08</td>\n",
       "      <td>3857</td>\n",
       "      <td>39</td>\n",
       "      <td>like</td>\n",
       "    </tr>\n",
       "    <tr>\n",
       "      <th>2</th>\n",
       "      <td>27563</td>\n",
       "      <td>2019-12-01 13:25:40</td>\n",
       "      <td>3174</td>\n",
       "      <td>78</td>\n",
       "      <td>like</td>\n",
       "    </tr>\n",
       "    <tr>\n",
       "      <th>3</th>\n",
       "      <td>61223</td>\n",
       "      <td>2019-12-01 13:25:20</td>\n",
       "      <td>3857</td>\n",
       "      <td>39</td>\n",
       "      <td>like</td>\n",
       "    </tr>\n",
       "    <tr>\n",
       "      <th>4</th>\n",
       "      <td>61223</td>\n",
       "      <td>2019-12-01 13:29:05</td>\n",
       "      <td>3765</td>\n",
       "      <td>73</td>\n",
       "      <td>like</td>\n",
       "    </tr>\n",
       "  </tbody>\n",
       "</table>\n",
       "</div>"
      ],
      "text/plain": [
       "   party_rk            date_time  story_id  category event\n",
       "0     64266  2019-12-01 13:05:31      3840        39  like\n",
       "1     55721  2019-12-01 13:18:08      3857        39  like\n",
       "2     27563  2019-12-01 13:25:40      3174        78  like\n",
       "3     61223  2019-12-01 13:25:20      3857        39  like\n",
       "4     61223  2019-12-01 13:29:05      3765        73  like"
      ]
     },
     "execution_count": 11,
     "metadata": {},
     "output_type": "execute_result"
    }
   ],
   "source": [
    "clients.head()"
   ]
  },
  {
   "cell_type": "markdown",
   "metadata": {},
   "source": [
    "# Food/Restaurants"
   ]
  },
  {
   "cell_type": "raw",
   "metadata": {},
   "source": [
    "Category food\n",
    "1) Write Into list of stories ids that are connected to food\n",
    "food_storis \n",
    "2) For client if he lliked or favour it mark as [references a]"
   ]
  },
  {
   "cell_type": "code",
   "execution_count": 13,
   "metadata": {},
   "outputs": [],
   "source": [
    "mark_food=mask=data_text.name.str.contains('Где есть')\n",
    "mark_food=mark_food|data_text.name.str.contains('Где пить')\n",
    "mark_food=mark_food|data_text.name.str.contains('ресторан')\n",
    "mark_food=mark_food|data_text.name.str.contains('кафе')"
   ]
  },
  {
   "cell_type": "code",
   "execution_count": 14,
   "metadata": {
    "collapsed": true
   },
   "outputs": [
    {
     "data": {
      "text/plain": [
       "44      1166\n",
       "102     1445\n",
       "171     1656\n",
       "372     2130\n",
       "399     2181\n",
       "408     2195\n",
       "409     2196\n",
       "450     2268\n",
       "474     2314\n",
       "523     2388\n",
       "526     2392\n",
       "554     2432\n",
       "555     2433\n",
       "614     2562\n",
       "641     2599\n",
       "647     2608\n",
       "648     2609\n",
       "663     2632\n",
       "684     2665\n",
       "718     2726\n",
       "719     2728\n",
       "810     2861\n",
       "816     2867\n",
       "852     2922\n",
       "910     3024\n",
       "944     3081\n",
       "983     3138\n",
       "1003    3177\n",
       "1027    3212\n",
       "1052    3254\n",
       "1053    3255\n",
       "1086    3313\n",
       "1117    3364\n",
       "1199    3488\n",
       "1222    3522\n",
       "1233    3546\n",
       "1278    3609\n",
       "1391    3794\n",
       "1445    3879\n",
       "1548    4035\n",
       "1553    4045\n",
       "Name: story_id, dtype: int64"
      ]
     },
     "execution_count": 14,
     "metadata": {},
     "output_type": "execute_result"
    }
   ],
   "source": [
    "food_story_id=data_text.loc[mark_food.fillna(False),'story_id']\n",
    "food_story_id"
   ]
  },
  {
   "cell_type": "code",
   "execution_count": 19,
   "metadata": {},
   "outputs": [
    {
     "data": {
      "text/plain": [
       "array(['favorite', 'like', 'dislike'], dtype=object)"
      ]
     },
     "execution_count": 19,
     "metadata": {},
     "output_type": "execute_result"
    }
   ],
   "source": [
    "clients.loc[clients.story_id.isin(food_story_id).fillna(False),'event'].unique()"
   ]
  },
  {
   "cell_type": "code",
   "execution_count": 36,
   "metadata": {},
   "outputs": [],
   "source": [
    "like_food=clients.story_id.isin(food_story_id).fillna(False)&clients.event.isin(['like','favorite']).fillna(False)\n",
    "client_to_recommend_food=clients.loc[like_food,'party_rk']\n",
    "clients['food recommendation']=0\n",
    "clients.loc[like_food,'food recommendation']=1                     "
   ]
  },
  {
   "cell_type": "code",
   "execution_count": 37,
   "metadata": {},
   "outputs": [
    {
     "data": {
      "text/html": [
       "<div>\n",
       "<style scoped>\n",
       "    .dataframe tbody tr th:only-of-type {\n",
       "        vertical-align: middle;\n",
       "    }\n",
       "\n",
       "    .dataframe tbody tr th {\n",
       "        vertical-align: top;\n",
       "    }\n",
       "\n",
       "    .dataframe thead th {\n",
       "        text-align: right;\n",
       "    }\n",
       "</style>\n",
       "<table border=\"1\" class=\"dataframe\">\n",
       "  <thead>\n",
       "    <tr style=\"text-align: right;\">\n",
       "      <th></th>\n",
       "      <th>party_rk</th>\n",
       "      <th>date_time</th>\n",
       "      <th>story_id</th>\n",
       "      <th>category</th>\n",
       "      <th>event</th>\n",
       "      <th>food recommendation</th>\n",
       "    </tr>\n",
       "  </thead>\n",
       "  <tbody>\n",
       "    <tr>\n",
       "      <th>0</th>\n",
       "      <td>64266</td>\n",
       "      <td>2019-12-01 13:05:31</td>\n",
       "      <td>3840</td>\n",
       "      <td>39</td>\n",
       "      <td>like</td>\n",
       "      <td>0</td>\n",
       "    </tr>\n",
       "    <tr>\n",
       "      <th>1</th>\n",
       "      <td>55721</td>\n",
       "      <td>2019-12-01 13:18:08</td>\n",
       "      <td>3857</td>\n",
       "      <td>39</td>\n",
       "      <td>like</td>\n",
       "      <td>0</td>\n",
       "    </tr>\n",
       "    <tr>\n",
       "      <th>2</th>\n",
       "      <td>27563</td>\n",
       "      <td>2019-12-01 13:25:40</td>\n",
       "      <td>3174</td>\n",
       "      <td>78</td>\n",
       "      <td>like</td>\n",
       "      <td>0</td>\n",
       "    </tr>\n",
       "    <tr>\n",
       "      <th>3</th>\n",
       "      <td>61223</td>\n",
       "      <td>2019-12-01 13:25:20</td>\n",
       "      <td>3857</td>\n",
       "      <td>39</td>\n",
       "      <td>like</td>\n",
       "      <td>0</td>\n",
       "    </tr>\n",
       "    <tr>\n",
       "      <th>4</th>\n",
       "      <td>61223</td>\n",
       "      <td>2019-12-01 13:29:05</td>\n",
       "      <td>3765</td>\n",
       "      <td>73</td>\n",
       "      <td>like</td>\n",
       "      <td>0</td>\n",
       "    </tr>\n",
       "    <tr>\n",
       "      <th>...</th>\n",
       "      <td>...</td>\n",
       "      <td>...</td>\n",
       "      <td>...</td>\n",
       "      <td>...</td>\n",
       "      <td>...</td>\n",
       "      <td>...</td>\n",
       "    </tr>\n",
       "    <tr>\n",
       "      <th>13815</th>\n",
       "      <td>19043</td>\n",
       "      <td>2019-12-31 22:52:40</td>\n",
       "      <td>4117</td>\n",
       "      <td>71</td>\n",
       "      <td>like</td>\n",
       "      <td>0</td>\n",
       "    </tr>\n",
       "    <tr>\n",
       "      <th>13816</th>\n",
       "      <td>19043</td>\n",
       "      <td>2019-12-31 22:53:13</td>\n",
       "      <td>4120</td>\n",
       "      <td>39</td>\n",
       "      <td>like</td>\n",
       "      <td>0</td>\n",
       "    </tr>\n",
       "    <tr>\n",
       "      <th>13817</th>\n",
       "      <td>10195</td>\n",
       "      <td>2019-12-31 23:32:50</td>\n",
       "      <td>4117</td>\n",
       "      <td>71</td>\n",
       "      <td>favorite</td>\n",
       "      <td>0</td>\n",
       "    </tr>\n",
       "    <tr>\n",
       "      <th>13818</th>\n",
       "      <td>10195</td>\n",
       "      <td>2019-12-31 23:33:32</td>\n",
       "      <td>4120</td>\n",
       "      <td>39</td>\n",
       "      <td>like</td>\n",
       "      <td>0</td>\n",
       "    </tr>\n",
       "    <tr>\n",
       "      <th>13819</th>\n",
       "      <td>10195</td>\n",
       "      <td>2019-12-31 23:32:43</td>\n",
       "      <td>4117</td>\n",
       "      <td>71</td>\n",
       "      <td>like</td>\n",
       "      <td>0</td>\n",
       "    </tr>\n",
       "  </tbody>\n",
       "</table>\n",
       "<p>13820 rows × 6 columns</p>\n",
       "</div>"
      ],
      "text/plain": [
       "       party_rk            date_time  story_id  category     event  \\\n",
       "0         64266  2019-12-01 13:05:31      3840        39      like   \n",
       "1         55721  2019-12-01 13:18:08      3857        39      like   \n",
       "2         27563  2019-12-01 13:25:40      3174        78      like   \n",
       "3         61223  2019-12-01 13:25:20      3857        39      like   \n",
       "4         61223  2019-12-01 13:29:05      3765        73      like   \n",
       "...         ...                  ...       ...       ...       ...   \n",
       "13815     19043  2019-12-31 22:52:40      4117        71      like   \n",
       "13816     19043  2019-12-31 22:53:13      4120        39      like   \n",
       "13817     10195  2019-12-31 23:32:50      4117        71  favorite   \n",
       "13818     10195  2019-12-31 23:33:32      4120        39      like   \n",
       "13819     10195  2019-12-31 23:32:43      4117        71      like   \n",
       "\n",
       "       food recommendation  \n",
       "0                        0  \n",
       "1                        0  \n",
       "2                        0  \n",
       "3                        0  \n",
       "4                        0  \n",
       "...                    ...  \n",
       "13815                    0  \n",
       "13816                    0  \n",
       "13817                    0  \n",
       "13818                    0  \n",
       "13819                    0  \n",
       "\n",
       "[13820 rows x 6 columns]"
      ]
     },
     "execution_count": 37,
     "metadata": {},
     "output_type": "execute_result"
    }
   ],
   "source": [
    "clients"
   ]
  },
  {
   "cell_type": "markdown",
   "metadata": {},
   "source": [
    "# Travel recommendation based on stories"
   ]
  },
  {
   "cell_type": "raw",
   "metadata": {},
   "source": [
    "Travel  destination extraction and interest in traveling"
   ]
  },
  {
   "cell_type": "code",
   "execution_count": 43,
   "metadata": {
    "scrolled": true
   },
   "outputs": [
    {
     "data": {
      "text/plain": [
       "2        824\n",
       "6        872\n",
       "10       922\n",
       "13       968\n",
       "33      1106\n",
       "40      1135\n",
       "49      1187\n",
       "57      1217\n",
       "68      1281\n",
       "74      1319\n",
       "80      1346\n",
       "155     1611\n",
       "176     1689\n",
       "185     1710\n",
       "191     1736\n",
       "195     1757\n",
       "203     1788\n",
       "269     1961\n",
       "306     2011\n",
       "325     2047\n",
       "326     2049\n",
       "361     2112\n",
       "381     2148\n",
       "439     2249\n",
       "478     2319\n",
       "539     2409\n",
       "570     2468\n",
       "671     2648\n",
       "765     2799\n",
       "822     2876\n",
       "862     2938\n",
       "868     2945\n",
       "890     2981\n",
       "925     3044\n",
       "951     3096\n",
       "1013    3194\n",
       "1357     297\n",
       "1587     420\n",
       "1605     589\n",
       "1614     622\n",
       "1617     668\n",
       "1623     711\n",
       "1625     731\n",
       "1629     746\n",
       "Name: story_id, dtype: int64"
      ]
     },
     "execution_count": 43,
     "metadata": {},
     "output_type": "execute_result"
    }
   ],
   "source": [
    "mark_travel=data_text.name.str.contains('Как у них')\n",
    "\n",
    "mark_travel=mark_travel|data_text.name.str.lower().str.contains('путешестви')\n",
    "\n",
    "travel_story_id=data_text.loc[mark_travel.fillna(False),'story_id']\n",
    "\n",
    "travel_story_id\n"
   ]
  },
  {
   "cell_type": "code",
   "execution_count": 45,
   "metadata": {},
   "outputs": [],
   "source": [
    "like_travel=clients.story_id.isin(travel_story_id).fillna(False)\n",
    "like_travel=like_travel&clients.event.isin(['like','favorite']).fillna(False)\n",
    "\n",
    "client_to_recommend_travel=clients.loc[like_travel,'party_rk']\n",
    "\n",
    "clients['like travelling']=0\n",
    "clients.loc[like_travel,'like travelling']=1       \n"
   ]
  },
  {
   "cell_type": "code",
   "execution_count": 46,
   "metadata": {},
   "outputs": [
    {
     "data": {
      "text/plain": [
       "0    13592\n",
       "1      228\n",
       "Name: like travelling, dtype: int64"
      ]
     },
     "execution_count": 46,
     "metadata": {},
     "output_type": "execute_result"
    }
   ],
   "source": [
    "clients['like travelling'].value_counts()"
   ]
  },
  {
   "cell_type": "code",
   "execution_count": 53,
   "metadata": {
    "scrolled": true
   },
   "outputs": [
    {
     "data": {
      "text/plain": [
       "2             Сингапур\n",
       "6              Тайвань\n",
       "10              Монако\n",
       "13              Турция\n",
       "33               Катар\n",
       "40               Ливан\n",
       "57          Калифорния\n",
       "68             Таиланд\n",
       "74               Париж\n",
       "80          Нидерланды\n",
       "155           Нью-Йорк\n",
       "176          Шотландия\n",
       "185          Австралия\n",
       "191             Египет\n",
       "195          Филиппины\n",
       "203             Япония\n",
       "269             Греция\n",
       "306            Гонконг\n",
       "326               Перу\n",
       "361             Грузия\n",
       "381         Нидерланды\n",
       "439             Берлин\n",
       "478              Самуи\n",
       "539     Новая Зеландия\n",
       "570           Танзания\n",
       "671               Иран\n",
       "765           Дагестан\n",
       "822             Лондон\n",
       "862           Исландия\n",
       "925           Лиссабон\n",
       "951              Хайфа\n",
       "1013           Бельгия\n",
       "1357        Шпицберген\n",
       "1587           Франция\n",
       "1605             Дубай\n",
       "1614          Алма-Ата\n",
       "1617              Сеул\n",
       "1623        Нью-Джерси\n",
       "1629         Барселона\n",
       "Name: name, dtype: object"
      ]
     },
     "execution_count": 53,
     "metadata": {},
     "output_type": "execute_result"
    }
   ],
   "source": [
    "mark_travel=data_text.name.str.contains('Как у них')\n",
    "\n",
    "travel_destinations=data_text[mark_travel.fillna(False)].name.str[len('Как у них:'):].str.strip()"
   ]
  },
  {
   "cell_type": "code",
   "execution_count": 83,
   "metadata": {},
   "outputs": [
    {
     "data": {
      "text/plain": [
       "'Барселона'"
      ]
     },
     "execution_count": 83,
     "metadata": {},
     "output_type": "execute_result"
    }
   ],
   "source": [
    "data_text[mask_data_text_story.fillna(False)].name.str[len('Как у них:'):].values[0].strip()"
   ]
  },
  {
   "cell_type": "code",
   "execution_count": 86,
   "metadata": {
    "scrolled": true
   },
   "outputs": [
    {
     "name": "stdout",
     "output_type": "stream",
     "text": [
      "Сингапур\n",
      "Тайвань\n",
      "Монако\n",
      "Турция\n",
      "Катар\n",
      "Ливан\n",
      "Калифорния\n",
      "Таиланд\n",
      "Париж\n",
      "Нидерланды\n",
      "Нью-Йорк\n",
      "Шотландия\n",
      "Австралия\n",
      "Египет\n",
      "Филиппины\n",
      "Япония\n",
      "Греция\n",
      "Гонконг\n",
      "Перу\n",
      "Грузия\n",
      "Нидерланды\n",
      "Берлин\n",
      "Самуи\n",
      "Новая Зеландия\n",
      "Танзания\n",
      "Иран\n",
      "Дагестан\n",
      "Лондон\n",
      "Исландия\n",
      "Лиссабон\n",
      "Хайфа\n",
      "Бельгия\n",
      "Шпицберген\n",
      "Франция\n",
      "Дубай\n",
      "Алма-Ата\n",
      "Сеул\n",
      "Нью-Джерси\n",
      "Барселона\n"
     ]
    }
   ],
   "source": [
    "clients['recommend_destination']=None\n",
    "kak_u_nih=data_text.name.str.contains('Как у них')\n",
    "for story_id in data_text.loc[kak_u_nih.fillna(False),'story_id']:\n",
    "    mask_story=clients['story_id']==story_id\n",
    "    mask_data_text_story=data_text['story_id']==story_id\n",
    "    country=data_text[mask_data_text_story.fillna(False)].name.str[len('Как у них:'):].values[0].strip()\n",
    "    clients.loc[mask_story,'recommend_destination']=country\n",
    "    print(country)"
   ]
  },
  {
   "cell_type": "code",
   "execution_count": 87,
   "metadata": {
    "scrolled": true
   },
   "outputs": [
    {
     "data": {
      "text/plain": [
       "array([None, 'Самуи', 'Танзания', 'Новая Зеландия', 'Лиссабон', 'Берлин',\n",
       "       'Франция', 'Исландия', 'Бельгия', 'Иран', 'Лондон', 'Нью-Йорк',\n",
       "       'Нидерланды', 'Грузия', 'Гонконг', 'Сеул', 'Греция', 'Япония',\n",
       "       'Дагестан', 'Перу', 'Филиппины', 'Катар', 'Барселона', 'Монако',\n",
       "       'Алма-Ата', 'Шотландия', 'Ливан', 'Хайфа', 'Австралия', 'Таиланд',\n",
       "       'Египет', 'Сингапур', 'Дубай', 'Париж', 'Шпицберген', 'Нью-Джерси',\n",
       "       'Калифорния', 'Турция', 'Тайвань'], dtype=object)"
      ]
     },
     "execution_count": 87,
     "metadata": {},
     "output_type": "execute_result"
    }
   ],
   "source": [
    "clients.recommend_destination.unique()"
   ]
  },
  {
   "cell_type": "code",
   "execution_count": 88,
   "metadata": {},
   "outputs": [
    {
     "data": {
      "text/html": [
       "<div>\n",
       "<style scoped>\n",
       "    .dataframe tbody tr th:only-of-type {\n",
       "        vertical-align: middle;\n",
       "    }\n",
       "\n",
       "    .dataframe tbody tr th {\n",
       "        vertical-align: top;\n",
       "    }\n",
       "\n",
       "    .dataframe thead th {\n",
       "        text-align: right;\n",
       "    }\n",
       "</style>\n",
       "<table border=\"1\" class=\"dataframe\">\n",
       "  <thead>\n",
       "    <tr style=\"text-align: right;\">\n",
       "      <th></th>\n",
       "      <th>party_rk</th>\n",
       "      <th>date_time</th>\n",
       "      <th>story_id</th>\n",
       "      <th>category</th>\n",
       "      <th>event</th>\n",
       "      <th>food recommendation</th>\n",
       "      <th>like travelling</th>\n",
       "      <th>recommend_destination</th>\n",
       "    </tr>\n",
       "  </thead>\n",
       "  <tbody>\n",
       "    <tr>\n",
       "      <th>0</th>\n",
       "      <td>64266</td>\n",
       "      <td>2019-12-01 13:05:31</td>\n",
       "      <td>3840</td>\n",
       "      <td>39</td>\n",
       "      <td>like</td>\n",
       "      <td>0</td>\n",
       "      <td>0</td>\n",
       "      <td>None</td>\n",
       "    </tr>\n",
       "    <tr>\n",
       "      <th>1</th>\n",
       "      <td>55721</td>\n",
       "      <td>2019-12-01 13:18:08</td>\n",
       "      <td>3857</td>\n",
       "      <td>39</td>\n",
       "      <td>like</td>\n",
       "      <td>0</td>\n",
       "      <td>0</td>\n",
       "      <td>None</td>\n",
       "    </tr>\n",
       "    <tr>\n",
       "      <th>2</th>\n",
       "      <td>27563</td>\n",
       "      <td>2019-12-01 13:25:40</td>\n",
       "      <td>3174</td>\n",
       "      <td>78</td>\n",
       "      <td>like</td>\n",
       "      <td>0</td>\n",
       "      <td>0</td>\n",
       "      <td>None</td>\n",
       "    </tr>\n",
       "    <tr>\n",
       "      <th>3</th>\n",
       "      <td>61223</td>\n",
       "      <td>2019-12-01 13:25:20</td>\n",
       "      <td>3857</td>\n",
       "      <td>39</td>\n",
       "      <td>like</td>\n",
       "      <td>0</td>\n",
       "      <td>0</td>\n",
       "      <td>None</td>\n",
       "    </tr>\n",
       "    <tr>\n",
       "      <th>4</th>\n",
       "      <td>61223</td>\n",
       "      <td>2019-12-01 13:29:05</td>\n",
       "      <td>3765</td>\n",
       "      <td>73</td>\n",
       "      <td>like</td>\n",
       "      <td>0</td>\n",
       "      <td>0</td>\n",
       "      <td>None</td>\n",
       "    </tr>\n",
       "    <tr>\n",
       "      <th>...</th>\n",
       "      <td>...</td>\n",
       "      <td>...</td>\n",
       "      <td>...</td>\n",
       "      <td>...</td>\n",
       "      <td>...</td>\n",
       "      <td>...</td>\n",
       "      <td>...</td>\n",
       "      <td>...</td>\n",
       "    </tr>\n",
       "    <tr>\n",
       "      <th>13815</th>\n",
       "      <td>19043</td>\n",
       "      <td>2019-12-31 22:52:40</td>\n",
       "      <td>4117</td>\n",
       "      <td>71</td>\n",
       "      <td>like</td>\n",
       "      <td>0</td>\n",
       "      <td>0</td>\n",
       "      <td>None</td>\n",
       "    </tr>\n",
       "    <tr>\n",
       "      <th>13816</th>\n",
       "      <td>19043</td>\n",
       "      <td>2019-12-31 22:53:13</td>\n",
       "      <td>4120</td>\n",
       "      <td>39</td>\n",
       "      <td>like</td>\n",
       "      <td>0</td>\n",
       "      <td>0</td>\n",
       "      <td>None</td>\n",
       "    </tr>\n",
       "    <tr>\n",
       "      <th>13817</th>\n",
       "      <td>10195</td>\n",
       "      <td>2019-12-31 23:32:50</td>\n",
       "      <td>4117</td>\n",
       "      <td>71</td>\n",
       "      <td>favorite</td>\n",
       "      <td>0</td>\n",
       "      <td>0</td>\n",
       "      <td>None</td>\n",
       "    </tr>\n",
       "    <tr>\n",
       "      <th>13818</th>\n",
       "      <td>10195</td>\n",
       "      <td>2019-12-31 23:33:32</td>\n",
       "      <td>4120</td>\n",
       "      <td>39</td>\n",
       "      <td>like</td>\n",
       "      <td>0</td>\n",
       "      <td>0</td>\n",
       "      <td>None</td>\n",
       "    </tr>\n",
       "    <tr>\n",
       "      <th>13819</th>\n",
       "      <td>10195</td>\n",
       "      <td>2019-12-31 23:32:43</td>\n",
       "      <td>4117</td>\n",
       "      <td>71</td>\n",
       "      <td>like</td>\n",
       "      <td>0</td>\n",
       "      <td>0</td>\n",
       "      <td>None</td>\n",
       "    </tr>\n",
       "  </tbody>\n",
       "</table>\n",
       "<p>13820 rows × 8 columns</p>\n",
       "</div>"
      ],
      "text/plain": [
       "       party_rk            date_time  story_id  category     event  \\\n",
       "0         64266  2019-12-01 13:05:31      3840        39      like   \n",
       "1         55721  2019-12-01 13:18:08      3857        39      like   \n",
       "2         27563  2019-12-01 13:25:40      3174        78      like   \n",
       "3         61223  2019-12-01 13:25:20      3857        39      like   \n",
       "4         61223  2019-12-01 13:29:05      3765        73      like   \n",
       "...         ...                  ...       ...       ...       ...   \n",
       "13815     19043  2019-12-31 22:52:40      4117        71      like   \n",
       "13816     19043  2019-12-31 22:53:13      4120        39      like   \n",
       "13817     10195  2019-12-31 23:32:50      4117        71  favorite   \n",
       "13818     10195  2019-12-31 23:33:32      4120        39      like   \n",
       "13819     10195  2019-12-31 23:32:43      4117        71      like   \n",
       "\n",
       "       food recommendation  like travelling recommend_destination  \n",
       "0                        0                0                  None  \n",
       "1                        0                0                  None  \n",
       "2                        0                0                  None  \n",
       "3                        0                0                  None  \n",
       "4                        0                0                  None  \n",
       "...                    ...              ...                   ...  \n",
       "13815                    0                0                  None  \n",
       "13816                    0                0                  None  \n",
       "13817                    0                0                  None  \n",
       "13818                    0                0                  None  \n",
       "13819                    0                0                  None  \n",
       "\n",
       "[13820 rows x 8 columns]"
      ]
     },
     "execution_count": 88,
     "metadata": {},
     "output_type": "execute_result"
    }
   ],
   "source": [
    "clients"
   ]
  },
  {
   "cell_type": "markdown",
   "metadata": {},
   "source": [
    "# Investment\n",
    "identify clients interested in investment in shares"
   ]
  },
  {
   "cell_type": "code",
   "execution_count": 90,
   "metadata": {},
   "outputs": [],
   "source": [
    "mark_invest=data_text.name.str.lower().str.contains('инвест')\n",
    "mark_invest=mark_invest|data_text.name.str.lower().str.contains('акции')\n",
    "mark_invest=mark_invest|data_text.name.str.contains('финансах')\n",
    "mark_invest=mark_invest|data_text.name.str.contains('вложит')"
   ]
  },
  {
   "cell_type": "code",
   "execution_count": 91,
   "metadata": {
    "collapsed": true
   },
   "outputs": [
    {
     "data": {
      "text/plain": [
       "75      1320\n",
       "83      1368\n",
       "207     1808\n",
       "209     1817\n",
       "219     1868\n",
       "220     1874\n",
       "390     2170\n",
       "530     2397\n",
       "535     2404\n",
       "753     2778\n",
       "754     2779\n",
       "755     2780\n",
       "777     2816\n",
       "905     3019\n",
       "930     3053\n",
       "934     3063\n",
       "961     3114\n",
       "964     3117\n",
       "969     3122\n",
       "993     3161\n",
       "1024     244\n",
       "1034    3224\n",
       "1047    3247\n",
       "1058    3263\n",
       "1066    3276\n",
       "1067    3277\n",
       "1069    3279\n",
       "1085    3310\n",
       "1110    3353\n",
       "1139    3390\n",
       "1142    3395\n",
       "1147    3403\n",
       "1154    3410\n",
       "1155    3411\n",
       "1187    3472\n",
       "1188    3473\n",
       "1191    3476\n",
       "1223    3523\n",
       "1256    3576\n",
       "1285    3616\n",
       "1310    3660\n",
       "1317    3672\n",
       "1329    3697\n",
       "1347    3731\n",
       "1365    3756\n",
       "1377    3773\n",
       "1401    3813\n",
       "1437    3865\n",
       "1476    3923\n",
       "1488    3939\n",
       "1559    4072\n",
       "1626     732\n",
       "1627     733\n",
       "Name: story_id, dtype: int64"
      ]
     },
     "execution_count": 91,
     "metadata": {},
     "output_type": "execute_result"
    }
   ],
   "source": [
    "invest_story_id=data_text.loc[mark_invest.fillna(False),'story_id']\n",
    "invest_story_id"
   ]
  },
  {
   "cell_type": "code",
   "execution_count": 92,
   "metadata": {},
   "outputs": [],
   "source": [
    "investment_interest=clients.story_id.isin(invest_story_id).fillna(False)\n",
    "investment_interest=investment_interest&clients.event.isin(['like','favorite']).fillna(False)\n",
    "\n",
    "client_to_recommend_invest_prods=clients.loc[investment_interest,'party_rk']\n",
    "\n",
    "clients['investment interest']=0\n",
    "clients.loc[investment_interest,'investment interest']=1       \n",
    "\n"
   ]
  },
  {
   "cell_type": "code",
   "execution_count": 94,
   "metadata": {},
   "outputs": [
    {
     "data": {
      "text/plain": [
       "0    13412\n",
       "1      408\n",
       "Name: investment interest, dtype: int64"
      ]
     },
     "execution_count": 94,
     "metadata": {},
     "output_type": "execute_result"
    }
   ],
   "source": [
    "clients['investment interest'].value_counts()"
   ]
  },
  {
   "cell_type": "markdown",
   "metadata": {},
   "source": [
    "# Save results:\n",
    "Updated table of avk_hackathon_data_story_logs with recomendation table"
   ]
  },
  {
   "cell_type": "code",
   "execution_count": 95,
   "metadata": {},
   "outputs": [],
   "source": [
    "clients.to_csv('recommendation_on_stories.csv')"
   ]
  },
  {
   "cell_type": "code",
   "execution_count": null,
   "metadata": {},
   "outputs": [],
   "source": []
  }
 ],
 "metadata": {
  "kernelspec": {
   "display_name": "Python 3",
   "language": "python",
   "name": "python3"
  },
  "language_info": {
   "codemirror_mode": {
    "name": "ipython",
    "version": 3
   },
   "file_extension": ".py",
   "mimetype": "text/x-python",
   "name": "python",
   "nbconvert_exporter": "python",
   "pygments_lexer": "ipython3",
   "version": "3.7.8"
  }
 },
 "nbformat": 4,
 "nbformat_minor": 4
}
