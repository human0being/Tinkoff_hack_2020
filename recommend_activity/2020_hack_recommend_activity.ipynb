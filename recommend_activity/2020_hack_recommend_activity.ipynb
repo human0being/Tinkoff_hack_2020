{
 "cells": [
  {
   "cell_type": "code",
   "execution_count": 2,
   "metadata": {
    "colab": {},
    "colab_type": "code",
    "id": "o08k0IFOCfM3"
   },
   "outputs": [],
   "source": [
    "import os\n",
    "import json\n",
    "import pickle\n",
    "from bisect import bisect_left, bisect_right\n",
    "from datetime import datetime, timedelta\n",
    "from collections import defaultdict, Counter\n",
    "\n",
    "import numpy as np\n",
    "import pandas as pd\n",
    "from tqdm import tqdm\n",
    "import warnings\n",
    "warnings.filterwarnings(\"ignore\")\n",
    "\n",
    "# GPU hack if you need\n",
    "# os.environ[\"CUDA_VISIBLE_DEVICES\"] = \"0\""
   ]
  },
  {
   "cell_type": "markdown",
   "metadata": {
    "colab_type": "text",
    "id": "MD0TKDyMCfM7"
   },
   "source": [
    "# Data\n",
    "\n",
    "Columns\n",
    "- `party_rk` – client unique identifier\n",
    "- `account_rk` – client account unique identifier\n",
    "- `financial_account_type_cd` – debit/credit card flag\n",
    "- `transaction_dttm` – operation datetime\n",
    "- `transaction_type_desc` – purchase/payment/...\n",
    "- `transaction_amt_rur` – transaction price\n",
    "- `merchant_type` - DUTY FREE STORES/FUEL DEALERS/RESTAURANTS/ etc\n",
    "- `merchant_group_rk` - McDonald's/Wildberries/ etc\n",
    "\n",
    "It's important that table is already sorted by `transaction_dttm` column!!!"
   ]
  },
  {
   "cell_type": "code",
   "execution_count": 11,
   "metadata": {
    "colab": {},
    "colab_type": "code",
    "id": "NxRbuZnfCfM8",
    "scrolled": false
   },
   "outputs": [],
   "source": [
    "DATADIR = \"./hackathon_data\" # \"./data\"\n",
    "transactions_path = f\"{DATADIR}/avk_hackathon_data_transactions.csv\"\n",
    "data = pd.read_csv(f\"{DATADIR}/avk_hackathon_data_transactions.csv\")"
   ]
  },
  {
   "cell_type": "code",
   "execution_count": 15,
   "metadata": {},
   "outputs": [],
   "source": [
    "data_balance = pd.read_csv(f\"{DATADIR}/avk_hackathon_data_account_x_balance.csv\")"
   ]
  },
  {
   "cell_type": "code",
   "execution_count": 5,
   "metadata": {},
   "outputs": [],
   "source": [
    "data_soc = pd.read_csv(f\"{DATADIR}/avk_hackathon_data_party_x_socdem.csv\")"
   ]
  },
  {
   "cell_type": "markdown",
   "metadata": {
    "colab_type": "text",
    "id": "VT0HZR2_CfNA"
   },
   "source": [
    "## Mappings\n",
    "~1 min"
   ]
  },
  {
   "cell_type": "code",
   "execution_count": null,
   "metadata": {},
   "outputs": [],
   "source": [
    "# Prepare & save mappings\n",
    "mappings = defaultdict(dict)\n",
    "unk_token = \"<UNK>\"\n",
    "\n",
    "def create_mapping(values):\n",
    "    mapping = {unk_token: 0}\n",
    "    for v in values:\n",
    "        if not pd.isna(v):\n",
    "            mapping[str(v)] = len(mapping)\n",
    "\n",
    "    return mapping\n",
    "\n",
    "\n",
    "for col in tqdm(\n",
    "    [\n",
    "        \"transaction_type_desc\",\n",
    "        \"merchant_rk\",\n",
    "        \"merchant_type\",\n",
    "        \"merchant_group_rk\",\n",
    "        \"category\",\n",
    "        \"financial_account_type_cd\",\n",
    "    ]\n",
    "):\n",
    "\n",
    "    col_values = (\n",
    "        pd.read_csv(transactions_path, usecols=[col])[col]\n",
    "        .fillna(unk_token)\n",
    "        .astype(str)\n",
    "    )\n",
    "    mappings[col] = create_mapping(col_values.unique())\n",
    "    del col_values\n",
    "\n",
    "\n",
    "with open(f\"{DATADIR}/mappings.json\", \"w\") as f:\n",
    "    json.dump(mappings, f)"
   ]
  },
  {
   "cell_type": "code",
   "execution_count": 12,
   "metadata": {
    "colab": {},
    "colab_type": "code",
    "id": "N_2kzArrCfND"
   },
   "outputs": [],
   "source": [
    "# load mappings\n",
    "unk_token = \"<UNK>\"\n",
    "with open(f\"{DATADIR}/mappings.json\", 'r') as f:\n",
    "     mappings = json.load(f)"
   ]
  },
  {
   "cell_type": "markdown",
   "metadata": {
    "colab_type": "text",
    "id": "Yc69QUTfCfNG"
   },
   "source": [
    "## Parse transactions by users\n",
    "~ 40 min"
   ]
  },
  {
   "cell_type": "code",
   "execution_count": null,
   "metadata": {},
   "outputs": [],
   "source": [
    "party2cat = defaultdict(list)\n",
    "usecols = [\n",
    "    \"party_rk\",\n",
    "    \"category\",\n",
    "]\n",
    "\n",
    "for chunk in tqdm(\n",
    "    pd.read_csv(transactions_path, usecols=usecols, chunksize=100_000w)\n",
    "):\n",
    "    chunk[\"category\"] = (\n",
    "        chunk[\"category\"].fillna(unk_token).astype(str)\n",
    "    )\n",
    "    print(chunk[\"category\"])  \n",
    "    for i, row in chunk.iterrows():\n",
    "        party2cat[row.party_rk].append(\n",
    "            mappings[\"category\"][row.category]\n",
    "        )\n",
    "\n",
    "    del chunk\n",
    "        \n",
    "pickle.dump(party2cat, open(f\"{DATADIR}/party2cat.pkl\", \"wb\"))"
   ]
  },
  {
   "cell_type": "code",
   "execution_count": null,
   "metadata": {},
   "outputs": [],
   "source": [
    "# Prepare & save client data\n",
    "party2dates = defaultdict(list)  # for each party save a series of the transaction dates \n",
    "party2sum = defaultdict(list)  # for each party save a series of the transaction costs \n",
    "party2merchant_type = defaultdict(list)  # for each party save a series of the transaction_type \n",
    "party2trans_type = defaultdict(list)  # for each party save a series of the transaction merchant_type\n",
    "\n",
    "usecols = [\n",
    "    \"party_rk\",\n",
    "    \"transaction_dttm\",\n",
    "    \"transaction_amt_rur\",\n",
    "    \"merchant_type\",\n",
    "    \"transaction_type_desc\",\n",
    "]\n",
    "\n",
    "for chunk in tqdm(\n",
    "    pd.read_csv(transactions_path, usecols=usecols, chunksize=100_000)\n",
    "):\n",
    "\n",
    "    chunk[\"merchant_type\"] = (\n",
    "        chunk[\"merchant_type\"].fillna(unk_token).astype(str)\n",
    "    )\n",
    "    chunk[\"transaction_type_desc\"] = (\n",
    "        chunk[\"transaction_type_desc\"].fillna(unk_token).astype(str)\n",
    "    )\n",
    "    chunk[\"transaction_amt_rur\"] = chunk[\"transaction_amt_rur\"].fillna(0)\n",
    "\n",
    "    for i, row in chunk.iterrows():\n",
    "        party2dates[row.party_rk].append(row.transaction_dttm)\n",
    "        party2sum[row.party_rk].append(row.transaction_amt_rur)\n",
    "        party2merchant_type[row.party_rk].append(\n",
    "            mappings[\"merchant_type\"][row.merchant_type]\n",
    "        )\n",
    "        party2trans_type[row.party_rk].append(\n",
    "            mappings[\"transaction_type_desc\"][row.transaction_type_desc]\n",
    "        )\n",
    "\n",
    "    del chunk\n",
    "\n",
    "pickle.dump(party2dates, open(f\"{DATADIR}/party2dates.pkl\", \"wb\"))\n",
    "pickle.dump(party2sum, open(f\"{DATADIR}/party2sum.pkl\", \"wb\"))\n",
    "pickle.dump(party2merchant_type, open(f\"{DATADIR}/party2merchant_type.pkl\", \"wb\"))\n",
    "pickle.dump(party2trans_type, open(f\"{DATADIR}/party2trans_type.pkl\", \"wb\"))"
   ]
  },
  {
   "cell_type": "code",
   "execution_count": 13,
   "metadata": {
    "colab": {},
    "colab_type": "code",
    "id": "FQfeDGZZCfNJ"
   },
   "outputs": [],
   "source": [
    "# load client data\n",
    "party2dates = pickle.load(open(f\"{DATADIR}/party2dates.pkl\", 'rb'))\n",
    "party2sum = pickle.load(open(f\"{DATADIR}/party2sum.pkl\", 'rb'))\n",
    "party2merchant_type = pickle.load(open(f\"{DATADIR}/party2merchant_type.pkl\", 'rb'))\n",
    "party2trans_type = pickle.load(open(f\"{DATADIR}/party2trans_type.pkl\", 'rb'))\n",
    "party2cat = pickle.load(open(f\"{DATADIR}/party2cat.pkl\", 'rb'))"
   ]
  },
  {
   "cell_type": "markdown",
   "metadata": {},
   "source": [
    "# Decision process"
   ]
  },
  {
   "cell_type": "markdown",
   "metadata": {},
   "source": [
    "### Idea\n",
    "\n",
    "As we had predictions of transactions, which can be performed by a particular person. So we decided to predict income/outcome of a person in that months in order to make recommendation. Based on that information we can suggest to him/her to participate in different kinds of challenges and quests.\n",
    "\n",
    "### Investement suggestions\n",
    "either to make an investement and buy shares, create an \"automatic savings plan\" or to make a personal plan of spending money, make a suggestion of how to spend less.\n",
    "\n",
    "### Entertainment suggestions\n",
    "Get quests and challenges for your favourite time spending. Cinemas, concerts and restaurants. "
   ]
  },
  {
   "cell_type": "code",
   "execution_count": 6,
   "metadata": {},
   "outputs": [
    {
     "name": "stderr",
     "output_type": "stream",
     "text": [
      "11987617it [15:59, 12488.79it/s]\n"
     ]
    }
   ],
   "source": [
    "mappings_cat = defaultdict(dict)\n",
    "unk_token = \"<UNK>\"\n",
    "\n",
    "for name in mappings['merchant_type'].keys():\n",
    "    if name == unk_token:\n",
    "        continue\n",
    "    else:\n",
    "        mappings_cat[mappings['merchant_type'][name]] = list()\n",
    "\n",
    "col_values = (\n",
    "        pd.read_csv(transactions_path, usecols=[\"merchant_type\", 'category'])\n",
    "        .fillna(unk_token)\n",
    "        .astype(str)\n",
    "    )\n",
    "\n",
    "for i, row in tqdm(\n",
    "    col_values.iterrows()\n",
    "    ):\n",
    "    \n",
    "    if mappings[\"category\"][row.category] not in mappings_cat[mappings['merchant_type'][row.merchant_type]]:\n",
    "        mappings_cat[mappings['merchant_type'][row.merchant_type]].append(mappings[\"category\"][row.category])\n",
    "        \n",
    "with open(f\"{DATADIR}/mappings_cat_merchant_type.json\", \"w\") as f:\n",
    "    json.dump(mappings_cat, f)"
   ]
  },
  {
   "cell_type": "code",
   "execution_count": 45,
   "metadata": {},
   "outputs": [],
   "source": [
    "# load mappings\n",
    "unk_token = \"<UNK>\"\n",
    "with open(f\"{DATADIR}/mappings_cat_merchant_type.json\", 'r') as f:\n",
    "     mappings_cat = json.load(f)"
   ]
  },
  {
   "cell_type": "code",
   "execution_count": 46,
   "metadata": {},
   "outputs": [],
   "source": [
    "# if person is interested in money increasing/saving strategies\n",
    "money_recommendations_pack = {\n",
    "    'Capital saving strategy': {\n",
    "        'Expenses decrease suggestion.': ' https://journal.tinkoff.ru/selected/budget/  ',\n",
    "        'Card limits setting.': '  https://help.tinkoff.ru/drive-dc/limit-add-card/add-card-set-limits/  ',\n",
    "    },\n",
    "    'Safe capital increase strategies': {\n",
    "        'Deposits suggestion.': '  https://www.tinkoff.ru/deposit/  ',\n",
    "        'Charity suggestion.': {\n",
    "            'Moscow': '  https://www.tinkoff.ru/payments/categories/blagotvoritelnost/  ',\n",
    "            'All': '  https://www.tinkoff.ru/about/news/04082020-tinkoff-launched-charity-service/  ',\n",
    "        },\n",
    "        'Automatic savings.': '  https://www.tinkoff.ru/eng/media/news/08062020-investments-box-eng/  ',\n",
    "    },\n",
    "    'Capital increase strategies': {\n",
    "        'Investement suggestion.': '  https://www.tinkoff.ru/invest/ ',\n",
    "        'Charity suggestion.': {\n",
    "            'Moscow': '  https://www.tinkoff.ru/payments/categories/blagotvoritelnost/ ',\n",
    "            'All': '  https://www.tinkoff.ru/about/news/04082020-tinkoff-launched-charity-service/ ',\n",
    "        },\n",
    "    },\n",
    "}\n",
    "\n",
    "# if person is inetrested in entertainment\n",
    "entertainment_recommendation_pack = {\n",
    "    'Cinemas': {\n",
    "        'Moscow': 'Visit three cinemas in Moscow. Get cashback for buying tickets at Tinkoff. https://www.tinkoff.ru/entertainment/moskva/movies/  ',\n",
    "        \"All\": 'Visit three the oldest cinemas. Get cashback for buying tickets at Tinkoff.  https://help.tinkoff.ru/junior/earn/cashback-for-movie/ ',\n",
    "    },\n",
    "    'Restaurants': 'Visit three the most interesting Georgian restaurants.  https://www.tinkoff.ru/entertainment/:city/restaurants/ ',\n",
    "    'Music': 'Visit three coolest rock-concerts in three months.  https://www.tinkoff.ru/entertainment/concerts/ ',\n",
    "}"
   ]
  },
  {
   "cell_type": "code",
   "execution_count": 53,
   "metadata": {},
   "outputs": [],
   "source": [
    "date_months = '2019-06'\n",
    "user_num = 33943\n",
    "\n",
    "def get_data_party(user_num, date_months):\n",
    "    data_party = dict()\n",
    "    \n",
    "    data_user = data[data['party_rk'] == user_num]\n",
    "    months = [item[:-3] for item in data_user['transaction_dttm']]\n",
    "    data_user['month'] = months\n",
    "    data_user = data_user[data_user['month'] == date_months]['merchant_type'].dropna()\n",
    "\n",
    "    data_user_balance = data_balance[data_balance['party_rk'] == user_num]\n",
    "    months = [item[:-3] for item in data_user_balance['cur_month']]\n",
    "    data_user_balance['month'] = months\n",
    "    data_user_balance = sum(data_user_balance[data_user_balance['month'] == date_months]['balance_chng'])\n",
    "\n",
    "    city = data_soc[data_soc['party_rk'] == user_num]['region_flg']\n",
    "    \n",
    "    data_party[\"merchant_type\"] = list(data_user)\n",
    "    data_party[\"balance\"] = data_user_balance\n",
    "    data_party[\"city\"] = np.int(city)\n",
    "    \n",
    "    return data_party\n",
    "\n",
    "def get_key(d, value):\n",
    "    for k, v in d.items():\n",
    "        if v == value:\n",
    "            return k\n",
    "        \n",
    "\n",
    "data_party = get_data_party(user_num, date_months)"
   ]
  },
  {
   "cell_type": "code",
   "execution_count": 58,
   "metadata": {},
   "outputs": [],
   "source": [
    "def give_advise_category_based(cat, balance, city):\n",
    "    \n",
    "    # financial advises\n",
    "    if balance < 0:\n",
    "        strategy = 'Capital saving strategy'\n",
    "        if cat in ['Развлечения', 'Рестораны']:\n",
    "            return money_recommendations_pack[strategy]['Card limits setting.']\n",
    "        else:\n",
    "            return money_recommendations_pack[strategy]['Expenses decrease suggestion.']\n",
    "    else:\n",
    "        if balance >= 10000:\n",
    "            strategy = 'Safe capital increase strategies'\n",
    "            \n",
    "            if city == 0: \n",
    "                city_name = 'Moscow'\n",
    "                link = money_recommendations_pack[strategy]['Charity suggestion.'][city_name]\n",
    "            else:\n",
    "                city_name = 'All'\n",
    "                link = money_recommendations_pack[strategy]['Charity suggestion.'][city_name]\n",
    "                \n",
    "            if cat in ['Развлечения', 'Кино']:\n",
    "                link += '  '\n",
    "                link += entertainment_recommendation_pack['Cinemas'][city_name]\n",
    "        else:\n",
    "            strategy = 'Capital increase strategies'\n",
    "            return money_recommendations_pack[strategy]['Investement suggestion.']\n",
    "        \n",
    "    return link"
   ]
  },
  {
   "cell_type": "code",
   "execution_count": 54,
   "metadata": {},
   "outputs": [],
   "source": [
    "def recommend_quest_for_user(data_party):\n",
    "    \n",
    "    categories_transac = np.zeros(len(mappings['category']))\n",
    "\n",
    "    for name in data_party['merchant_type']:\n",
    "        # get categories of transactions\n",
    "        categories_transac[mappings_cat[str(mappings['merchant_type'][str(name)])][0]] += 1\n",
    "\n",
    "    max_ind_category_1 = categories_transac.argmax()\n",
    "    priority_cat_1 = get_key(mappings[\"category\"], max_ind_category_1)\n",
    "    categories_transac[max_ind_category_1] = 0\n",
    "\n",
    "    max_ind_category_2 = categories_transac.argmax()\n",
    "    priority_cat_2 = get_key(mappings[\"category\"], max_ind_category_2)\n",
    "    categories_transac[max_ind_category_2] = 0\n",
    "\n",
    "    max_ind_category_3 = categories_transac.argmax()\n",
    "    priority_cat_3 = get_key(mappings[\"category\"], max_ind_category_3)\n",
    "    categories_transac[max_ind_category_3] = 0\n",
    "\n",
    "    max_ind_category_4 = categories_transac.argmax()\n",
    "    priority_cat_4 = get_key(mappings[\"category\"], max_ind_category_4)\n",
    "    categories_transac[max_ind_category_3] = 0\n",
    "\n",
    "    priorities = [priority_cat_1, priority_cat_2, priority_cat_3, priority_cat_4]\n",
    "    \n",
    "    \n",
    "    return advises"
   ]
  },
  {
   "cell_type": "code",
   "execution_count": 60,
   "metadata": {},
   "outputs": [],
   "source": [
    "def get_advise(data_party):\n",
    "    categories_transac = np.zeros(len(mappings['category']))\n",
    "\n",
    "    for name in data_party['merchant_type']:\n",
    "        # get categories of transactions\n",
    "        categories_transac[mappings_cat[str(mappings['merchant_type'][str(name)])][0]] += 1\n",
    "\n",
    "    max_ind_category_1 = categories_transac.argmax()\n",
    "    priority_cat_1 = get_key(mappings[\"category\"], max_ind_category_1)\n",
    "    categories_transac[max_ind_category_1] = 0\n",
    "\n",
    "    max_ind_category_2 = categories_transac.argmax()\n",
    "    priority_cat_2 = get_key(mappings[\"category\"], max_ind_category_2)\n",
    "    categories_transac[max_ind_category_2] = 0\n",
    "\n",
    "    max_ind_category_3 = categories_transac.argmax()\n",
    "    priority_cat_3 = get_key(mappings[\"category\"], max_ind_category_3)\n",
    "    categories_transac[max_ind_category_3] = 0\n",
    "\n",
    "    max_ind_category_4 = categories_transac.argmax()\n",
    "    priority_cat_4 = get_key(mappings[\"category\"], max_ind_category_4)\n",
    "    categories_transac[max_ind_category_3] = 0\n",
    "\n",
    "    priorities = [priority_cat_1, priority_cat_2, priority_cat_3, priority_cat_4]\n",
    "\n",
    "    advise_1 = give_advise_category_based(priority_cat_1, data_party['balance'], data_party['city'])\n",
    "    return advise_1"
   ]
  },
  {
   "cell_type": "markdown",
   "metadata": {},
   "source": [
    "## Result\n",
    "The model can give an advise what can person do with their financies in the next month or can plan activities."
   ]
  },
  {
   "cell_type": "code",
   "execution_count": 62,
   "metadata": {},
   "outputs": [
    {
     "data": {
      "text/plain": [
       "'  https://www.tinkoff.ru/payments/categories/blagotvoritelnost/  '"
      ]
     },
     "execution_count": 62,
     "metadata": {},
     "output_type": "execute_result"
    }
   ],
   "source": [
    "get_advise(data_party)"
   ]
  },
  {
   "cell_type": "code",
   "execution_count": null,
   "metadata": {},
   "outputs": [],
   "source": []
  }
 ],
 "metadata": {
  "accelerator": "GPU",
  "colab": {
   "collapsed_sections": [],
   "name": "2020_hack_baseline_v3.ipynb",
   "provenance": []
  },
  "kernelspec": {
   "display_name": "Python 3",
   "language": "python",
   "name": "python3"
  },
  "language_info": {
   "codemirror_mode": {
    "name": "ipython",
    "version": 3
   },
   "file_extension": ".py",
   "mimetype": "text/x-python",
   "name": "python",
   "nbconvert_exporter": "python",
   "pygments_lexer": "ipython3",
   "version": "3.6.9"
  }
 },
 "nbformat": 4,
 "nbformat_minor": 1
}
